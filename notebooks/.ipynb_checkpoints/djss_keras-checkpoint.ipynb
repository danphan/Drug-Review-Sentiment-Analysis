{
 "cells": [
  {
   "cell_type": "markdown",
   "metadata": {},
   "source": [
    "# Import"
   ]
  },
  {
   "cell_type": "code",
   "execution_count": 1,
   "metadata": {},
   "outputs": [],
   "source": [
    "import time\n",
    "import numpy as np\n",
    "import pandas as pd\n",
    "import tensorflow as tf\n",
    "import matplotlib.pyplot as plt\n",
    "import seaborn as sns\n",
    "\n",
    "from sklearn.model_selection import train_test_split\n",
    "from sklearn.model_selection import GridSearchCV\n",
    "from tensorflow.keras.models import Sequential\n",
    "from tensorflow.keras.layers import Flatten, Dense, Conv1D, MaxPool1D, Embedding\n",
    "from tensorflow.keras.preprocessing.text import Tokenizer\n",
    "from tensorflow.keras.preprocessing.sequence import pad_sequences\n",
    "from tensorflow.keras.losses import SparseCategoricalCrossentropy\n",
    "from tensorflow.keras.callbacks import EarlyStopping\n",
    "from tensorflow.keras.wrappers.scikit_learn import KerasClassifier\n",
    "\n",
    "from sklearn.metrics import accuracy_score, confusion_matrix\n",
    "from sklearn.metrics import make_scorer\n",
    "\n",
    "import nltk\n",
    "from nltk.corpus import stopwords\n",
    "from nltk.tokenize import sent_tokenize, word_tokenize"
   ]
  },
  {
   "cell_type": "markdown",
   "metadata": {},
   "source": [
    "# Only dealing with the top condition"
   ]
  },
  {
   "cell_type": "code",
   "execution_count": 2,
   "metadata": {},
   "outputs": [],
   "source": [
    "data = pd.read_csv('drugsComTrain_raw.tsv',sep='\\t')"
   ]
  },
  {
   "cell_type": "code",
   "execution_count": 3,
   "metadata": {},
   "outputs": [
    {
     "data": {
      "text/plain": [
       "Birth Control                                  28788\n",
       "Depression                                      9069\n",
       "Pain                                            6145\n",
       "Anxiety                                         5904\n",
       "Acne                                            5588\n",
       "                                               ...  \n",
       "ungal Pneumonia                                    1\n",
       "Myeloproliferative Disorders                       1\n",
       "Diagnostic Bronchograms                            1\n",
       "Tuberculosis, Active                               1\n",
       "79</span> users found this comment helpful.        1\n",
       "Name: condition, Length: 884, dtype: int64"
      ]
     },
     "execution_count": 3,
     "metadata": {},
     "output_type": "execute_result"
    }
   ],
   "source": [
    "data['condition'].value_counts()"
   ]
  },
  {
   "cell_type": "code",
   "execution_count": 4,
   "metadata": {},
   "outputs": [],
   "source": [
    "# train_data = data.copy()\n",
    "train_data = data[(data['condition'] == 'Birth Control')]"
   ]
  },
  {
   "cell_type": "markdown",
   "metadata": {},
   "source": [
    "# Building vocab"
   ]
  },
  {
   "cell_type": "code",
   "execution_count": 5,
   "metadata": {},
   "outputs": [
    {
     "name": "stdout",
     "output_type": "stream",
     "text": [
      "178\n"
     ]
    }
   ],
   "source": [
    "# nltk.download('stopwords')\n",
    "# nltk.download('punkt')\n",
    "\n",
    "STOP_WORDS = stopwords.words('english')\n",
    "STOP_WORDS.remove(\"no\")\n",
    "\n",
    "print(len(STOP_WORDS))"
   ]
  },
  {
   "cell_type": "code",
   "execution_count": 6,
   "metadata": {},
   "outputs": [],
   "source": [
    "# Remove special characters and stop words from review\n",
    "\n",
    "def filter_review(review, stop=True):\n",
    "    \n",
    "    characters = '!#$%&()*+,-./:;<=>?@[\\\\]^_`{|}~\\t\\n\\r'\n",
    "    \n",
    "    review = review.lower()\n",
    "    review = review.strip('\"')\n",
    "    review = review.replace('&#039;', \"'\")\n",
    "    review = ''.join(list(filter(lambda char: char not in characters, review)))\n",
    "    review = review.split()\n",
    "    if stop:\n",
    "        review = list(filter(lambda word: word not in STOP_WORDS, review))\n",
    "    \n",
    "    return review"
   ]
  },
  {
   "cell_type": "code",
   "execution_count": 7,
   "metadata": {},
   "outputs": [
    {
     "name": "stdout",
     "output_type": "stream",
     "text": [
      "Wall time: 8.69 s\n"
     ]
    }
   ],
   "source": [
    "%%time\n",
    "\n",
    "reviews = train_data['review']\n",
    "\n",
    "master_list1 = [filter_review(review, stop=True) for review in reviews] #Remove Stop Words\n",
    "master_list2 = [filter_review(review, stop=False) for review in reviews] #Don't remove Stop Words"
   ]
  },
  {
   "cell_type": "code",
   "execution_count": 8,
   "metadata": {},
   "outputs": [
    {
     "data": {
      "image/png": "[encoded data removed]",
      "text/plain": [
       "<Figure size 432x288 with 1 Axes>"
      ]
     },
     "metadata": {
      "needs_background": "light"
     },
     "output_type": "display_data"
    }
   ],
   "source": [
    "plt.hist(list(map(len, master_list1)), range=(0, 200), histtype='step');\n",
    "plt.hist(list(map(len, master_list2)), range=(0, 200), histtype='step');"
   ]
  },
  {
   "cell_type": "code",
   "execution_count": 9,
   "metadata": {},
   "outputs": [
    {
     "data": {
      "text/plain": [
       "('used take another oral contraceptive 21 pill cycle happy light periods max 5 days no side effects contained hormone gestodene available us switched lybrel ingredients similar pills ended started lybrel immediately first day period instructions said period lasted two weeks taking second pack two weeks third pack things got even worse third period lasted two weeks end third week still daily brown dischargethe positive side side effects idea period free tempting alas',\n",
       " 5.0)"
      ]
     },
     "execution_count": 9,
     "metadata": {},
     "output_type": "execute_result"
    }
   ],
   "source": [
    "i = 0\n",
    "' '.join(master_list1[i]), train_data.reset_index()['rating'][0]"
   ]
  },
  {
   "cell_type": "code",
   "execution_count": 10,
   "metadata": {},
   "outputs": [
    {
     "name": "stdout",
     "output_type": "stream",
     "text": [
      "Wall time: 2.25 s\n"
     ]
    }
   ],
   "source": [
    "%%time\n",
    "\n",
    "tokenizer1 = Tokenizer(oov_token='unk')\n",
    "tokenizer1.fit_on_texts(master_list1)\n",
    "\n",
    "tokenizer2 = Tokenizer(oov_token='unk')\n",
    "tokenizer2.fit_on_texts(master_list2)"
   ]
  },
  {
   "cell_type": "code",
   "execution_count": 11,
   "metadata": {},
   "outputs": [
    {
     "data": {
      "text/plain": [
       "(20797, 20952)"
      ]
     },
     "execution_count": 11,
     "metadata": {},
     "output_type": "execute_result"
    }
   ],
   "source": [
    "len(tokenizer1.word_index), len(tokenizer2.word_index)"
   ]
  },
  {
   "cell_type": "markdown",
   "metadata": {},
   "source": [
    "# Dense NN?"
   ]
  },
  {
   "cell_type": "code",
   "execution_count": 58,
   "metadata": {},
   "outputs": [],
   "source": [
    "def dense_nn(num_neurons=[100, 80, 60], max_length=100, vector_dim=128, stop=True):\n",
    "    \n",
    "    if stop==True:\n",
    "        vocab_size = len(tokenizer1.word_index) + 1\n",
    "    if stop==False:\n",
    "        vocab_size = len(tokenizer2.word_index) + 1\n",
    "    \n",
    "    model = Sequential()\n",
    "    model.add(Embedding(vocab_size, vector_dim, input_length=max_length, trainable=True, mask_zero=True))\n",
    "    model.add(Flatten())\n",
    "    for num in num_neurons:\n",
    "        model.add(Dense(num, activation='relu'))\n",
    "        \n",
    "    model.add(Dense(11, activation='relu'))\n",
    "    \n",
    "    loss = SparseCategoricalCrossentropy(from_logits=True)\n",
    "    model.compile(loss=loss, optimizer='adam', metrics=['accuracy'])\n",
    "    \n",
    "    return model"
   ]
  },
  {
   "cell_type": "markdown",
   "metadata": {},
   "source": [
    "## Test it out"
   ]
  },
  {
   "cell_type": "code",
   "execution_count": 13,
   "metadata": {},
   "outputs": [],
   "source": [
    "max_length = 100\n",
    "\n",
    "X1 = tokenizer1.texts_to_sequences(master_list1)\n",
    "X1 = pad_sequences(X1, padding=\"post\", maxlen=max_length)\n",
    "\n",
    "y1 = train_data['rating']\n",
    "\n",
    "X_train1, X_test1, y_train1, y_test1 = train_test_split(X1, y1, random_state=42, test_size=0.2)"
   ]
  },
  {
   "cell_type": "code",
   "execution_count": 104,
   "metadata": {},
   "outputs": [],
   "source": [
    "X2 = tokenizer2.texts_to_sequences(master_list2)\n",
    "X2 = pad_sequences(X2, padding=\"post\", maxlen=max_length)\n",
    "\n",
    "y2 = train_data['rating']\n",
    "\n",
    "X_train2, X_test2, y_train2, y_test2 = train_test_split(X2, y2, random_state=42, test_size=0.2)"
   ]
  },
  {
   "cell_type": "code",
   "execution_count": 15,
   "metadata": {},
   "outputs": [
    {
     "name": "stdout",
     "output_type": "stream",
     "text": [
      "Model: \"sequential\"\n",
      "_________________________________________________________________\n",
      "Layer (type)                 Output Shape              Param #   \n",
      "=================================================================\n",
      "embedding (Embedding)        (None, 100, 128)          2662144   \n",
      "_________________________________________________________________\n",
      "flatten (Flatten)            (None, 12800)             0         \n",
      "_________________________________________________________________\n",
      "dense (Dense)                (None, 100)               1280100   \n",
      "_________________________________________________________________\n",
      "dense_1 (Dense)              (None, 80)                8080      \n",
      "_________________________________________________________________\n",
      "dense_2 (Dense)              (None, 60)                4860      \n",
      "_________________________________________________________________\n",
      "dense_3 (Dense)              (None, 11)                671       \n",
      "=================================================================\n",
      "Total params: 3,955,855\n",
      "Trainable params: 3,955,855\n",
      "Non-trainable params: 0\n",
      "_________________________________________________________________\n"
     ]
    }
   ],
   "source": [
    "model = dense_nn()\n",
    "model.summary()"
   ]
  },
  {
   "cell_type": "code",
   "execution_count": 16,
   "metadata": {},
   "outputs": [
    {
     "name": "stdout",
     "output_type": "stream",
     "text": [
      "Epoch 1/10\n",
      "576/576 [==============================] - 26s 44ms/step - loss: 2.1584 - accuracy: 0.2526 - val_loss: 1.7359 - val_accuracy: 0.3888\n",
      "Epoch 2/10\n",
      "576/576 [==============================] - 24s 42ms/step - loss: 1.3261 - accuracy: 0.5476 - val_loss: 1.5172 - val_accuracy: 0.5213\n",
      "Epoch 3/10\n",
      "576/576 [==============================] - 24s 42ms/step - loss: 0.5955 - accuracy: 0.8158 - val_loss: 1.6526 - val_accuracy: 0.5480\n",
      "Epoch 4/10\n",
      "576/576 [==============================] - 24s 42ms/step - loss: 0.3072 - accuracy: 0.9028 - val_loss: 1.9760 - val_accuracy: 0.5853\n",
      "Epoch 5/10\n",
      "576/576 [==============================] - 26s 45ms/step - loss: 0.1460 - accuracy: 0.9608 - val_loss: 2.1009 - val_accuracy: 0.5771\n"
     ]
    }
   ],
   "source": [
    "callback = EarlyStopping(monitor='val_loss', patience=3, restore_best_weights=True)\n",
    "\n",
    "fit = model.fit(X_train1, y_train1, epochs=10, validation_split=0.2, callbacks=[callback])"
   ]
  },
  {
   "cell_type": "code",
   "execution_count": 106,
   "metadata": {},
   "outputs": [],
   "source": [
    "y_pred1 = np.argmax(model.predict(X_test1), axis=1)"
   ]
  },
  {
   "cell_type": "code",
   "execution_count": 107,
   "metadata": {},
   "outputs": [],
   "source": [
    "conf = confusion_matrix(y_test1, y_pred1)"
   ]
  },
  {
   "cell_type": "code",
   "execution_count": 108,
   "metadata": {},
   "outputs": [
    {
     "data": {
      "text/plain": [
       "<matplotlib.image.AxesImage at 0x224cd316490>"
      ]
     },
     "execution_count": 108,
     "metadata": {},
     "output_type": "execute_result"
    },
    {
     "data": {
      "image/png": "[encoded data removed]",
      "text/plain": [
       "<Figure size 432x288 with 1 Axes>"
      ]
     },
     "metadata": {
      "needs_background": "light"
     },
     "output_type": "display_data"
    }
   ],
   "source": [
    "plt.imshow(conf)"
   ]
  },
  {
   "cell_type": "code",
   "execution_count": 109,
   "metadata": {},
   "outputs": [
    {
     "data": {
      "text/plain": [
       "0.8310177144841958"
      ]
     },
     "execution_count": 109,
     "metadata": {},
     "output_type": "execute_result"
    }
   ],
   "source": [
    "sum([np.trace(conf/len(y_test1), offset=i) for i in range(-2, 3)])"
   ]
  },
  {
   "cell_type": "markdown",
   "metadata": {},
   "source": [
    "### Confusion matrix scorer"
   ]
  },
  {
   "cell_type": "code",
   "execution_count": 110,
   "metadata": {},
   "outputs": [],
   "source": [
    "def confusion_matrix_scorer(clf, X, y):\n",
    "    y_pred = clf.predict(X)\n",
    "    if y_pred.ndim==2:\n",
    "        y_pred = np.argmax(y_pred, axis=1)        \n",
    "    cm = confusion_matrix(y, y_pred)\n",
    "    return sum([np.trace(cm/len(y), offset=i) for i in range(-1, 2)])"
   ]
  },
  {
   "cell_type": "code",
   "execution_count": 111,
   "metadata": {},
   "outputs": [
    {
     "data": {
      "text/plain": [
       "0.7320250086835707"
      ]
     },
     "execution_count": 111,
     "metadata": {},
     "output_type": "execute_result"
    }
   ],
   "source": [
    "confusion_matrix_scorer(model, X_test1, y_test1)"
   ]
  },
  {
   "cell_type": "markdown",
   "metadata": {},
   "source": [
    "# Grid Searching"
   ]
  },
  {
   "cell_type": "markdown",
   "metadata": {},
   "source": [
    "## No stop words"
   ]
  },
  {
   "cell_type": "code",
   "execution_count": 39,
   "metadata": {},
   "outputs": [
    {
     "name": "stdout",
     "output_type": "stream",
     "text": [
      "Epoch 1/10\n",
      "288/288 [==============================] - 34s 118ms/step - loss: 2.2208 - accuracy: 0.2198 - val_loss: 1.9083 - val_accuracy: 0.3387\n",
      "Epoch 2/10\n",
      "288/288 [==============================] - 33s 114ms/step - loss: 1.4807 - accuracy: 0.4911 - val_loss: 1.7848 - val_accuracy: 0.3847\n",
      "Epoch 3/10\n",
      "288/288 [==============================] - 32s 112ms/step - loss: 0.6422 - accuracy: 0.7768 - val_loss: 2.1211 - val_accuracy: 0.4190\n",
      "Epoch 4/10\n",
      "288/288 [==============================] - 34s 119ms/step - loss: 0.1834 - accuracy: 0.9433 - val_loss: 2.5157 - val_accuracy: 0.4325\n",
      "Epoch 5/10\n",
      "288/288 [==============================] - 34s 117ms/step - loss: 0.0307 - accuracy: 0.9921 - val_loss: 3.1035 - val_accuracy: 0.4472\n"
     ]
    },
    {
     "name": "stderr",
     "output_type": "stream",
     "text": [
      "C:\\Users\\saumi\\anaconda3\\envs\\ml\\lib\\site-packages\\tensorflow\\python\\keras\\engine\\sequential.py:450: UserWarning: `model.predict_classes()` is deprecated and will be removed after 2021-01-01. Please use instead:* `np.argmax(model.predict(x), axis=-1)`,   if your model does multi-class classification   (e.g. if it uses a `softmax` last-layer activation).* `(model.predict(x) > 0.5).astype(\"int32\")`,   if your model does binary classification   (e.g. if it uses a `sigmoid` last-layer activation).\n",
      "  warnings.warn('`model.predict_classes()` is deprecated and '\n"
     ]
    },
    {
     "name": "stdout",
     "output_type": "stream",
     "text": [
      "Epoch 1/10\n",
      "288/288 [==============================] - 33s 112ms/step - loss: 2.1896 - accuracy: 0.2219 - val_loss: 1.9058 - val_accuracy: 0.3378\n",
      "Epoch 2/10\n",
      "288/288 [==============================] - 33s 116ms/step - loss: 1.4650 - accuracy: 0.4964 - val_loss: 1.9356 - val_accuracy: 0.3734\n",
      "Epoch 3/10\n",
      "288/288 [==============================] - 32s 112ms/step - loss: 0.8238 - accuracy: 0.7305 - val_loss: 2.2172 - val_accuracy: 0.3639\n",
      "Epoch 4/10\n",
      "288/288 [==============================] - 34s 117ms/step - loss: 0.5316 - accuracy: 0.8392 - val_loss: 2.5633 - val_accuracy: 0.3600\n",
      "Epoch 1/10\n",
      "288/288 [==============================] - 63s 216ms/step - loss: 2.3257 - accuracy: 0.1780 - val_loss: 1.9433 - val_accuracy: 0.3261\n",
      "Epoch 2/10\n",
      "288/288 [==============================] - 62s 214ms/step - loss: 1.5134 - accuracy: 0.4879 - val_loss: 1.9255 - val_accuracy: 0.3808\n",
      "Epoch 3/10\n",
      "288/288 [==============================] - 61s 210ms/step - loss: 0.7956 - accuracy: 0.7313 - val_loss: 1.9860 - val_accuracy: 0.3960\n",
      "Epoch 4/10\n",
      "288/288 [==============================] - 61s 211ms/step - loss: 0.2734 - accuracy: 0.9138 - val_loss: 2.4218 - val_accuracy: 0.4043\n",
      "Epoch 5/10\n",
      "288/288 [==============================] - 59s 204ms/step - loss: 0.0580 - accuracy: 0.9849 - val_loss: 2.7289 - val_accuracy: 0.4260\n",
      "Epoch 1/10\n",
      "288/288 [==============================] - 59s 205ms/step - loss: 2.2471 - accuracy: 0.2076 - val_loss: 2.0126 - val_accuracy: 0.3218\n",
      "Epoch 2/10\n",
      "288/288 [==============================] - 59s 204ms/step - loss: 1.5412 - accuracy: 0.4684 - val_loss: 1.9136 - val_accuracy: 0.3604\n",
      "Epoch 3/10\n",
      "288/288 [==============================] - 59s 205ms/step - loss: 1.0126 - accuracy: 0.6228 - val_loss: 2.1429 - val_accuracy: 0.3213\n",
      "Epoch 4/10\n",
      "288/288 [==============================] - 59s 206ms/step - loss: 0.9214 - accuracy: 0.6361 - val_loss: 2.4000 - val_accuracy: 0.3383\n",
      "Epoch 5/10\n",
      "288/288 [==============================] - 59s 205ms/step - loss: 0.8860 - accuracy: 0.6423 - val_loss: 2.8099 - val_accuracy: 0.3387\n",
      "Epoch 1/10\n",
      "288/288 [==============================] - 18s 61ms/step - loss: 2.2457 - accuracy: 0.2089 - val_loss: 1.9757 - val_accuracy: 0.3144\n",
      "Epoch 2/10\n",
      "288/288 [==============================] - 17s 60ms/step - loss: 1.6543 - accuracy: 0.4115 - val_loss: 1.9382 - val_accuracy: 0.3356\n",
      "Epoch 3/10\n",
      "288/288 [==============================] - 17s 60ms/step - loss: 1.0323 - accuracy: 0.6300 - val_loss: 2.2044 - val_accuracy: 0.3456\n",
      "Epoch 4/10\n",
      "288/288 [==============================] - 18s 64ms/step - loss: 0.8193 - accuracy: 0.6985 - val_loss: 2.5136 - val_accuracy: 0.3317\n",
      "Epoch 5/10\n",
      "288/288 [==============================] - 19s 66ms/step - loss: 0.7428 - accuracy: 0.7092 - val_loss: 2.6576 - val_accuracy: 0.3452\n",
      "Epoch 1/10\n",
      "288/288 [==============================] - 19s 63ms/step - loss: 2.2837 - accuracy: 0.2172 - val_loss: 2.0549 - val_accuracy: 0.3044\n",
      "Epoch 2/10\n",
      "288/288 [==============================] - 19s 64ms/step - loss: 1.6455 - accuracy: 0.4438 - val_loss: 1.8455 - val_accuracy: 0.3574\n",
      "Epoch 3/10\n",
      "288/288 [==============================] - 18s 62ms/step - loss: 0.6505 - accuracy: 0.7956 - val_loss: 2.2521 - val_accuracy: 0.4047\n",
      "Epoch 4/10\n",
      "288/288 [==============================] - 17s 60ms/step - loss: 0.1650 - accuracy: 0.9524 - val_loss: 2.6207 - val_accuracy: 0.4216\n",
      "Epoch 5/10\n",
      "288/288 [==============================] - 18s 61ms/step - loss: 0.0400 - accuracy: 0.9890 - val_loss: 3.0803 - val_accuracy: 0.4142\n",
      "Epoch 1/10\n",
      "288/288 [==============================] - 34s 116ms/step - loss: 2.3960 - accuracy: 0.1430 - val_loss: 2.3979 - val_accuracy: 0.1472\n",
      "Epoch 2/10\n",
      "288/288 [==============================] - 33s 114ms/step - loss: 2.3979 - accuracy: 0.1399 - val_loss: 2.3979 - val_accuracy: 0.1468\n",
      "Epoch 3/10\n",
      "288/288 [==============================] - 34s 118ms/step - loss: 2.3979 - accuracy: 0.1477 - val_loss: 2.3979 - val_accuracy: 0.1468\n",
      "Epoch 4/10\n",
      "288/288 [==============================] - 33s 114ms/step - loss: 2.3979 - accuracy: 0.1561 - val_loss: 2.3979 - val_accuracy: 0.1468\n",
      "Epoch 1/10\n",
      "288/288 [==============================] - 33s 115ms/step - loss: 2.2249 - accuracy: 0.2153 - val_loss: 1.9345 - val_accuracy: 0.3113\n",
      "Epoch 2/10\n",
      "288/288 [==============================] - 33s 115ms/step - loss: 1.5332 - accuracy: 0.4773 - val_loss: 1.8893 - val_accuracy: 0.3721\n",
      "Epoch 3/10\n",
      "288/288 [==============================] - 34s 117ms/step - loss: 0.7779 - accuracy: 0.7461 - val_loss: 2.0911 - val_accuracy: 0.4038\n",
      "Epoch 4/10\n",
      "288/288 [==============================] - 36s 125ms/step - loss: 0.3624 - accuracy: 0.8805 - val_loss: 2.5998 - val_accuracy: 0.3817\n",
      "Epoch 5/10\n",
      "288/288 [==============================] - 35s 121ms/step - loss: 0.2285 - accuracy: 0.9148 - val_loss: 2.8988 - val_accuracy: 0.3834\n",
      "Epoch 1/10\n",
      "288/288 [==============================] - 6s 21ms/step - loss: 2.2653 - accuracy: 0.1977 - val_loss: 2.0126 - val_accuracy: 0.3100\n",
      "Epoch 2/10\n",
      "288/288 [==============================] - 6s 20ms/step - loss: 1.7510 - accuracy: 0.3928 - val_loss: 1.9325 - val_accuracy: 0.3556\n",
      "Epoch 3/10\n",
      "288/288 [==============================] - 6s 20ms/step - loss: 1.0346 - accuracy: 0.6588 - val_loss: 2.0514 - val_accuracy: 0.3886\n",
      "Epoch 4/10\n",
      "288/288 [==============================] - 6s 20ms/step - loss: 0.6331 - accuracy: 0.8006 - val_loss: 2.2980 - val_accuracy: 0.3969\n",
      "Epoch 5/10\n",
      "288/288 [==============================] - 6s 21ms/step - loss: 0.4486 - accuracy: 0.8359 - val_loss: 2.3915 - val_accuracy: 0.4030\n",
      "Epoch 1/10\n",
      "288/288 [==============================] - 7s 24ms/step - loss: 2.2950 - accuracy: 0.1959 - val_loss: 2.1033 - val_accuracy: 0.3161\n",
      "Epoch 2/10\n",
      "288/288 [==============================] - 6s 20ms/step - loss: 1.7770 - accuracy: 0.3954 - val_loss: 2.1321 - val_accuracy: 0.3031\n",
      "Epoch 3/10\n",
      "288/288 [==============================] - 6s 20ms/step - loss: 1.3894 - accuracy: 0.4733 - val_loss: 2.2516 - val_accuracy: 0.2901\n",
      "Epoch 4/10\n",
      "288/288 [==============================] - 6s 20ms/step - loss: 1.2573 - accuracy: 0.4915 - val_loss: 2.3263 - val_accuracy: 0.2974\n",
      "Epoch 1/10\n",
      "288/288 [==============================] - 12s 41ms/step - loss: 2.2167 - accuracy: 0.2129 - val_loss: 1.8985 - val_accuracy: 0.3456\n",
      "Epoch 2/10\n",
      "288/288 [==============================] - 12s 42ms/step - loss: 1.4784 - accuracy: 0.5081 - val_loss: 1.8841 - val_accuracy: 0.3752\n",
      "Epoch 3/10\n",
      "288/288 [==============================] - 12s 41ms/step - loss: 0.7544 - accuracy: 0.7400 - val_loss: 2.0910 - val_accuracy: 0.3795\n",
      "Epoch 4/10\n",
      "288/288 [==============================] - 12s 42ms/step - loss: 0.5512 - accuracy: 0.7825 - val_loss: 2.3057 - val_accuracy: 0.3791\n",
      "Epoch 5/10\n",
      "288/288 [==============================] - 12s 41ms/step - loss: 0.5461 - accuracy: 0.7760 - val_loss: 2.5320 - val_accuracy: 0.3825\n",
      "Epoch 1/10\n",
      "288/288 [==============================] - 13s 42ms/step - loss: 2.3008 - accuracy: 0.1958 - val_loss: 2.1603 - val_accuracy: 0.2814\n",
      "Epoch 2/10\n",
      "288/288 [==============================] - 12s 41ms/step - loss: 1.8510 - accuracy: 0.3609 - val_loss: 2.1507 - val_accuracy: 0.2666\n",
      "Epoch 3/10\n",
      "288/288 [==============================] - 12s 40ms/step - loss: 1.5208 - accuracy: 0.4153 - val_loss: 2.2324 - val_accuracy: 0.2505\n",
      "Epoch 4/10\n",
      "288/288 [==============================] - 12s 41ms/step - loss: 1.4344 - accuracy: 0.4181 - val_loss: 2.2805 - val_accuracy: 0.2453\n",
      "Epoch 5/10\n",
      "288/288 [==============================] - 12s 41ms/step - loss: 1.3984 - accuracy: 0.4261 - val_loss: 2.3071 - val_accuracy: 0.2540\n",
      "Epoch 1/10\n",
      "576/576 [==============================] - 37s 63ms/step - loss: 2.2917 - accuracy: 0.2064 - val_loss: 2.0883 - val_accuracy: 0.2794\n",
      "Epoch 2/10\n",
      "576/576 [==============================] - 35s 60ms/step - loss: 1.6179 - accuracy: 0.4497 - val_loss: 1.6582 - val_accuracy: 0.4377\n",
      "Epoch 3/10\n",
      "576/576 [==============================] - 36s 63ms/step - loss: 0.9590 - accuracy: 0.6617 - val_loss: 1.6019 - val_accuracy: 0.4852\n",
      "Epoch 4/10\n",
      "576/576 [==============================] - 37s 64ms/step - loss: 0.6904 - accuracy: 0.7365 - val_loss: 2.0078 - val_accuracy: 0.4785\n",
      "Epoch 5/10\n",
      "576/576 [==============================] - 38s 65ms/step - loss: 0.6480 - accuracy: 0.7432 - val_loss: 2.0715 - val_accuracy: 0.4922\n",
      "Epoch 6/10\n",
      "576/576 [==============================] - 37s 65ms/step - loss: 0.6335 - accuracy: 0.7480 - val_loss: 2.1919 - val_accuracy: 0.4898\n"
     ]
    }
   ],
   "source": [
    "dense_model1 = KerasClassifier(dense_nn)\n",
    "\n",
    "params_grid = {'num_neurons':[(2000, 500, 100), (1000, 500, 100), (100, 80, 60)], 'vector_dim':[64, 128]}\n",
    "scoring = {'accuracy': make_scorer(accuracy_score), 'conf': confusion_matrix_scorer}\n",
    "\n",
    "dense_grid1 = GridSearchCV(dense_model1, params_grid, cv=2, scoring=scoring, refit='conf')\n",
    "\n",
    "callback = EarlyStopping(monitor='val_loss', patience=3, restore_best_weights=True)\n",
    "\n",
    "dense_grid_result1 = dense_grid1.fit(X_train1, y_train1, epochs=10, verbose=1, validation_split=0.2, callbacks=[callback])"
   ]
  },
  {
   "cell_type": "code",
   "execution_count": 40,
   "metadata": {},
   "outputs": [
    {
     "data": {
      "text/plain": [
       "array([0.61372123, 0.58679983, 0.62414242, 0.41498046, 0.56239687,\n",
       "       0.52327399])"
      ]
     },
     "execution_count": 40,
     "metadata": {},
     "output_type": "execute_result"
    }
   ],
   "source": [
    "dense_grid_result1.cv_results_['mean_test_conf']"
   ]
  },
  {
   "cell_type": "code",
   "execution_count": 41,
   "metadata": {},
   "outputs": [
    {
     "data": {
      "text/plain": [
       "{'num_neurons': (1000, 500, 100), 'vector_dim': 64}"
      ]
     },
     "execution_count": 41,
     "metadata": {},
     "output_type": "execute_result"
    }
   ],
   "source": [
    "dense_grid_result1.best_params_"
   ]
  },
  {
   "cell_type": "code",
   "execution_count": 112,
   "metadata": {},
   "outputs": [
    {
     "name": "stdout",
     "output_type": "stream",
     "text": [
      "0.7106634248002779\n"
     ]
    },
    {
     "data": {
      "image/png": "[encoded data removed]",
      "text/plain": [
       "<Figure size 432x288 with 1 Axes>"
      ]
     },
     "metadata": {
      "needs_background": "light"
     },
     "output_type": "display_data"
    }
   ],
   "source": [
    "best_dense_model1 = dense_grid_result1.best_estimator_\n",
    "\n",
    "y_pred1 = best_dense_model1.predict(X_test1)\n",
    "\n",
    "conf = confusion_matrix(y_test1, y_pred1)\n",
    "\n",
    "plt.imshow(conf)\n",
    "\n",
    "print(confusion_matrix_scorer(best_dense_model1, X_test1, y_test1))"
   ]
  },
  {
   "cell_type": "markdown",
   "metadata": {},
   "source": [
    "## With stop words"
   ]
  },
  {
   "cell_type": "code",
   "execution_count": 51,
   "metadata": {},
   "outputs": [
    {
     "name": "stdout",
     "output_type": "stream",
     "text": [
      "Epoch 1/10\n",
      "324/324 [==============================] - 23s 69ms/step - loss: 2.2864 - accuracy: 0.2104 - val_loss: 1.9688 - val_accuracy: 0.3576\n",
      "Epoch 2/10\n",
      "324/324 [==============================] - 21s 64ms/step - loss: 1.6868 - accuracy: 0.4291 - val_loss: 1.9023 - val_accuracy: 0.3932\n",
      "Epoch 3/10\n",
      "324/324 [==============================] - 20s 63ms/step - loss: 1.1335 - accuracy: 0.6032 - val_loss: 2.0985 - val_accuracy: 0.3637\n",
      "Epoch 4/10\n",
      "324/324 [==============================] - 20s 62ms/step - loss: 0.9410 - accuracy: 0.6359 - val_loss: 2.2412 - val_accuracy: 0.3542\n",
      "Epoch 5/10\n",
      "324/324 [==============================] - 21s 63ms/step - loss: 0.8755 - accuracy: 0.6507 - val_loss: 2.2563 - val_accuracy: 0.3663\n",
      "Epoch 1/10\n",
      "324/324 [==============================] - 23s 70ms/step - loss: 2.1713 - accuracy: 0.2199 - val_loss: 1.8304 - val_accuracy: 0.3368\n",
      "Epoch 2/10\n",
      "324/324 [==============================] - 22s 69ms/step - loss: 1.2887 - accuracy: 0.5337 - val_loss: 1.7963 - val_accuracy: 0.4089\n",
      "Epoch 3/10\n",
      "324/324 [==============================] - 23s 71ms/step - loss: 0.4200 - accuracy: 0.8612 - val_loss: 2.3672 - val_accuracy: 0.4201\n",
      "Epoch 4/10\n",
      "324/324 [==============================] - 23s 72ms/step - loss: 0.0703 - accuracy: 0.9822 - val_loss: 3.1446 - val_accuracy: 0.4271\n",
      "Epoch 5/10\n",
      "324/324 [==============================] - 23s 70ms/step - loss: 0.0097 - accuracy: 0.9983 - val_loss: 3.8497 - val_accuracy: 0.4453\n",
      "Epoch 1/10\n",
      "324/324 [==============================] - 40s 123ms/step - loss: 2.1821 - accuracy: 0.2263 - val_loss: 1.8313 - val_accuracy: 0.3715\n",
      "Epoch 2/10\n",
      "324/324 [==============================] - 38s 118ms/step - loss: 1.3425 - accuracy: 0.5449 - val_loss: 1.7945 - val_accuracy: 0.4271\n",
      "Epoch 3/10\n",
      "324/324 [==============================] - 40s 123ms/step - loss: 0.6371 - accuracy: 0.7896 - val_loss: 2.2472 - val_accuracy: 0.4297\n",
      "Epoch 4/10\n",
      "324/324 [==============================] - 40s 122ms/step - loss: 0.3196 - accuracy: 0.9020 - val_loss: 2.2713 - val_accuracy: 0.4531\n",
      "Epoch 5/10\n",
      "324/324 [==============================] - 38s 117ms/step - loss: 0.1242 - accuracy: 0.9688 - val_loss: 2.3618 - val_accuracy: 0.4774\n",
      "Epoch 1/10\n",
      "324/324 [==============================] - 39s 118ms/step - loss: 2.2044 - accuracy: 0.2314 - val_loss: 1.9135 - val_accuracy: 0.3446\n",
      "Epoch 2/10\n",
      "324/324 [==============================] - 38s 117ms/step - loss: 1.3424 - accuracy: 0.5458 - val_loss: 1.8316 - val_accuracy: 0.3967\n",
      "Epoch 3/10\n",
      "324/324 [==============================] - 38s 119ms/step - loss: 0.6106 - accuracy: 0.8028 - val_loss: 2.0041 - val_accuracy: 0.4028\n",
      "Epoch 4/10\n",
      "324/324 [==============================] - 38s 117ms/step - loss: 0.3727 - accuracy: 0.8644 - val_loss: 2.6654 - val_accuracy: 0.4071\n",
      "Epoch 5/10\n",
      "324/324 [==============================] - 38s 117ms/step - loss: 0.3192 - accuracy: 0.8726 - val_loss: 2.8351 - val_accuracy: 0.4028\n",
      "Epoch 1/10\n",
      "324/324 [==============================] - 7s 21ms/step - loss: 2.3079 - accuracy: 0.2036 - val_loss: 2.0645 - val_accuracy: 0.3142\n",
      "Epoch 2/10\n",
      "324/324 [==============================] - 7s 20ms/step - loss: 1.8764 - accuracy: 0.3248 - val_loss: 2.0685 - val_accuracy: 0.2908\n",
      "Epoch 3/10\n",
      "324/324 [==============================] - 7s 20ms/step - loss: 1.6402 - accuracy: 0.3365 - val_loss: 2.1142 - val_accuracy: 0.2795\n",
      "Epoch 4/10\n",
      "324/324 [==============================] - 7s 20ms/step - loss: 1.6207 - accuracy: 0.3360 - val_loss: 2.1236 - val_accuracy: 0.2656\n",
      "Epoch 1/10\n",
      "324/324 [==============================] - 7s 21ms/step - loss: 2.2692 - accuracy: 0.2062 - val_loss: 2.0998 - val_accuracy: 0.2474\n",
      "Epoch 2/10\n",
      "324/324 [==============================] - 7s 20ms/step - loss: 1.8756 - accuracy: 0.3267 - val_loss: 2.0132 - val_accuracy: 0.3186\n",
      "Epoch 3/10\n",
      "324/324 [==============================] - 7s 20ms/step - loss: 1.3267 - accuracy: 0.5693 - val_loss: 2.0414 - val_accuracy: 0.3863\n",
      "Epoch 4/10\n",
      "324/324 [==============================] - 7s 20ms/step - loss: 0.9628 - accuracy: 0.6811 - val_loss: 2.2150 - val_accuracy: 0.3802\n",
      "Epoch 5/10\n",
      "324/324 [==============================] - 7s 20ms/step - loss: 0.7521 - accuracy: 0.7480 - val_loss: 2.2759 - val_accuracy: 0.3724\n",
      "Epoch 1/10\n",
      "324/324 [==============================] - 14s 42ms/step - loss: 2.2663 - accuracy: 0.2273 - val_loss: 1.9781 - val_accuracy: 0.3559\n",
      "Epoch 2/10\n",
      "324/324 [==============================] - 13s 41ms/step - loss: 1.5500 - accuracy: 0.4851 - val_loss: 1.6639 - val_accuracy: 0.4653\n",
      "Epoch 3/10\n",
      "324/324 [==============================] - 14s 43ms/step - loss: 0.6045 - accuracy: 0.8238 - val_loss: 1.8885 - val_accuracy: 0.4844\n",
      "Epoch 4/10\n",
      "324/324 [==============================] - 14s 42ms/step - loss: 0.2597 - accuracy: 0.9210 - val_loss: 2.1701 - val_accuracy: 0.4688\n",
      "Epoch 5/10\n",
      "324/324 [==============================] - 13s 42ms/step - loss: 0.1160 - accuracy: 0.9729 - val_loss: 2.3151 - val_accuracy: 0.4748\n",
      "Epoch 1/10\n",
      "324/324 [==============================] - 15s 44ms/step - loss: 2.3334 - accuracy: 0.1770 - val_loss: 2.2187 - val_accuracy: 0.2491\n",
      "Epoch 2/10\n",
      "324/324 [==============================] - 13s 41ms/step - loss: 1.8512 - accuracy: 0.3367 - val_loss: 2.1981 - val_accuracy: 0.2370\n",
      "Epoch 3/10\n",
      "324/324 [==============================] - 13s 40ms/step - loss: 1.4566 - accuracy: 0.4530 - val_loss: 2.2818 - val_accuracy: 0.2569\n",
      "Epoch 4/10\n",
      "324/324 [==============================] - 13s 40ms/step - loss: 1.2279 - accuracy: 0.5087 - val_loss: 2.3578 - val_accuracy: 0.2283\n",
      "Epoch 5/10\n",
      "324/324 [==============================] - 13s 40ms/step - loss: 1.1780 - accuracy: 0.5187 - val_loss: 2.5067 - val_accuracy: 0.2387\n",
      "Epoch 1/10\n",
      "324/324 [==============================] - 7s 20ms/step - loss: 2.2447 - accuracy: 0.2032 - val_loss: 1.9025 - val_accuracy: 0.3385\n",
      "Epoch 2/10\n",
      "324/324 [==============================] - 6s 19ms/step - loss: 1.6977 - accuracy: 0.3974 - val_loss: 1.8059 - val_accuracy: 0.3932\n",
      "Epoch 3/10\n",
      "324/324 [==============================] - 6s 19ms/step - loss: 1.0703 - accuracy: 0.6410 - val_loss: 1.9078 - val_accuracy: 0.4227\n",
      "Epoch 4/10\n",
      "324/324 [==============================] - 6s 19ms/step - loss: 0.5439 - accuracy: 0.8358 - val_loss: 2.1501 - val_accuracy: 0.4349\n",
      "Epoch 5/10\n",
      "324/324 [==============================] - 6s 19ms/step - loss: 0.2986 - accuracy: 0.9054 - val_loss: 2.5357 - val_accuracy: 0.4297\n",
      "Epoch 1/10\n",
      "324/324 [==============================] - 7s 20ms/step - loss: 2.2660 - accuracy: 0.1769 - val_loss: 1.9447 - val_accuracy: 0.2899\n",
      "Epoch 2/10\n",
      "324/324 [==============================] - 6s 19ms/step - loss: 1.6319 - accuracy: 0.4056 - val_loss: 1.8011 - val_accuracy: 0.3741\n",
      "Epoch 3/10\n",
      "324/324 [==============================] - 6s 19ms/step - loss: 0.8872 - accuracy: 0.7226 - val_loss: 1.9100 - val_accuracy: 0.4236\n",
      "Epoch 4/10\n",
      "324/324 [==============================] - 6s 19ms/step - loss: 0.3997 - accuracy: 0.8810 - val_loss: 2.2344 - val_accuracy: 0.4201\n",
      "Epoch 5/10\n",
      "324/324 [==============================] - 6s 19ms/step - loss: 0.2230 - accuracy: 0.9268 - val_loss: 2.4638 - val_accuracy: 0.4253\n",
      "Epoch 1/10\n",
      "324/324 [==============================] - 13s 39ms/step - loss: 2.2510 - accuracy: 0.1985 - val_loss: 2.0256 - val_accuracy: 0.2552\n",
      "Epoch 2/10\n",
      "324/324 [==============================] - 13s 39ms/step - loss: 1.8230 - accuracy: 0.3255 - val_loss: 1.9521 - val_accuracy: 0.3220\n",
      "Epoch 3/10\n",
      "324/324 [==============================] - 13s 39ms/step - loss: 1.2972 - accuracy: 0.5566 - val_loss: 2.0812 - val_accuracy: 0.3550\n",
      "Epoch 4/10\n",
      "324/324 [==============================] - 13s 39ms/step - loss: 0.8145 - accuracy: 0.7280 - val_loss: 2.2190 - val_accuracy: 0.3854\n",
      "Epoch 5/10\n",
      "324/324 [==============================] - 13s 39ms/step - loss: 0.5319 - accuracy: 0.8826 - val_loss: 2.3479 - val_accuracy: 0.4332\n",
      "Epoch 1/10\n",
      "324/324 [==============================] - 13s 39ms/step - loss: 2.3548 - accuracy: 0.1654 - val_loss: 2.2657 - val_accuracy: 0.2066\n",
      "Epoch 2/10\n",
      "324/324 [==============================] - 12s 38ms/step - loss: 1.8388 - accuracy: 0.3501 - val_loss: 1.8791 - val_accuracy: 0.3394\n",
      "Epoch 3/10\n",
      "324/324 [==============================] - 12s 38ms/step - loss: 1.1178 - accuracy: 0.6122 - val_loss: 1.9672 - val_accuracy: 0.3785\n"
     ]
    },
    {
     "name": "stdout",
     "output_type": "stream",
     "text": [
      "Epoch 4/10\n",
      "324/324 [==============================] - 13s 39ms/step - loss: 0.5985 - accuracy: 0.7980 - val_loss: 2.2252 - val_accuracy: 0.3889\n",
      "Epoch 5/10\n",
      "324/324 [==============================] - 13s 41ms/step - loss: 0.3926 - accuracy: 0.8837 - val_loss: 2.5918 - val_accuracy: 0.3898\n",
      "Epoch 1/10\n",
      "648/648 [==============================] - 74s 114ms/step - loss: 2.2384 - accuracy: 0.2254 - val_loss: 1.7084 - val_accuracy: 0.3990\n",
      "Epoch 2/10\n",
      "648/648 [==============================] - 75s 116ms/step - loss: 1.2847 - accuracy: 0.5645 - val_loss: 1.4260 - val_accuracy: 0.5284\n",
      "Epoch 3/10\n",
      "648/648 [==============================] - 75s 116ms/step - loss: 0.5154 - accuracy: 0.8350 - val_loss: 1.3937 - val_accuracy: 0.6170\n",
      "Epoch 4/10\n",
      "648/648 [==============================] - 75s 116ms/step - loss: 0.1430 - accuracy: 0.9577 - val_loss: 1.5057 - val_accuracy: 0.6392\n",
      "Epoch 5/10\n",
      "648/648 [==============================] - 76s 117ms/step - loss: 0.0474 - accuracy: 0.9864 - val_loss: 1.8391 - val_accuracy: 0.6261\n",
      "Epoch 6/10\n",
      "648/648 [==============================] - 76s 117ms/step - loss: 0.0322 - accuracy: 0.9903 - val_loss: 1.7429 - val_accuracy: 0.6431\n"
     ]
    }
   ],
   "source": [
    "dense_model2 = KerasClassifier(dense_nn)\n",
    "\n",
    "params_grid = {'num_neurons':[(1000, 500, 100), (100, 80, 60), (80, 60, 40)], 'vector_dim':[64, 128], 'stop':[False]}\n",
    "scoring = {'accuracy': make_scorer(accuracy_score), 'conf': confusion_matrix_scorer}\n",
    "\n",
    "dense_grid2 = GridSearchCV(dense_model2, params_grid, cv=2, scoring=scoring, refit='conf')\n",
    "\n",
    "callback = EarlyStopping(monitor='val_loss', patience=3, restore_best_weights=True)\n",
    "\n",
    "dense_grid_result2 = dense_grid2.fit(X_train2, y_train2, epochs=10, verbose=1, validation_split=0.1, callbacks=[callback])"
   ]
  },
  {
   "cell_type": "code",
   "execution_count": 52,
   "metadata": {},
   "outputs": [
    {
     "data": {
      "text/plain": [
       "array([0.60881459, 0.63590968, 0.52496743, 0.55384281, 0.63004776,\n",
       "       0.58740773])"
      ]
     },
     "execution_count": 52,
     "metadata": {},
     "output_type": "execute_result"
    }
   ],
   "source": [
    "dense_grid_result2.cv_results_['mean_test_conf']"
   ]
  },
  {
   "cell_type": "code",
   "execution_count": 53,
   "metadata": {},
   "outputs": [
    {
     "data": {
      "text/plain": [
       "{'num_neurons': (1000, 500, 100), 'stop': False, 'vector_dim': 128}"
      ]
     },
     "execution_count": 53,
     "metadata": {},
     "output_type": "execute_result"
    }
   ],
   "source": [
    "dense_grid_result2.best_params_"
   ]
  },
  {
   "cell_type": "code",
   "execution_count": 54,
   "metadata": {},
   "outputs": [
    {
     "name": "stdout",
     "output_type": "stream",
     "text": [
      "0.7780479333101772\n"
     ]
    },
    {
     "data": {
      "image/png": "[encoded data removed]",
      "text/plain": [
       "<Figure size 432x288 with 1 Axes>"
      ]
     },
     "metadata": {
      "needs_background": "light"
     },
     "output_type": "display_data"
    }
   ],
   "source": [
    "best_dense_model2 = dense_grid_result2.best_estimator_\n",
    "\n",
    "y_pred2 = best_dense_model2.predict(X_test2)\n",
    "\n",
    "conf = confusion_matrix(y_test2, y_pred2)\n",
    "\n",
    "plt.imshow(conf)\n",
    "\n",
    "print(confusion_matrix_scorer(best_dense_model2, X_test2, y_test2))"
   ]
  },
  {
   "cell_type": "markdown",
   "metadata": {},
   "source": [
    "# Conv1D"
   ]
  },
  {
   "cell_type": "code",
   "execution_count": 96,
   "metadata": {},
   "outputs": [],
   "source": [
    "def conv_nn(kernel_size=4, num_filters=127, num_neurons=[50], max_length=100, vector_dim=128, stop=True):\n",
    "    \n",
    "    if stop==True:\n",
    "        vocab_size = len(tokenizer1.word_index) + 1\n",
    "    if stop==False:\n",
    "        vocab_size = len(tokenizer2.word_index) + 1\n",
    "    \n",
    "    model = Sequential()\n",
    "    model.add(Embedding(vocab_size, vector_dim, input_length=max_length, trainable=True, mask_zero=True))\n",
    "    model.add(Conv1D(filters=num_filters, kernel_size=kernel_size, activation='relu'))\n",
    "    model.add(MaxPool1D(pool_size=2))\n",
    "    model.add(Flatten())\n",
    "    for num in num_neurons:\n",
    "        model.add(Dense(num, activation='relu'))\n",
    "        \n",
    "    model.add(Dense(11, activation='relu'))\n",
    "    \n",
    "    loss = SparseCategoricalCrossentropy(from_logits=True)\n",
    "    model.compile(loss=loss, optimizer='adam', metrics=['accuracy'])\n",
    "    \n",
    "    return model"
   ]
  },
  {
   "cell_type": "code",
   "execution_count": 97,
   "metadata": {},
   "outputs": [
    {
     "name": "stdout",
     "output_type": "stream",
     "text": [
      "Model: \"sequential_103\"\n",
      "_________________________________________________________________\n",
      "Layer (type)                 Output Shape              Param #   \n",
      "=================================================================\n",
      "embedding_103 (Embedding)    (None, 100, 128)          2662144   \n",
      "_________________________________________________________________\n",
      "conv1d_28 (Conv1D)           (None, 97, 127)           65151     \n",
      "_________________________________________________________________\n",
      "max_pooling1d_24 (MaxPooling (None, 48, 127)           0         \n",
      "_________________________________________________________________\n",
      "flatten_100 (Flatten)        (None, 6096)              0         \n",
      "_________________________________________________________________\n",
      "dense_317 (Dense)            (None, 50)                304850    \n",
      "_________________________________________________________________\n",
      "dense_318 (Dense)            (None, 11)                561       \n",
      "=================================================================\n",
      "Total params: 3,032,706\n",
      "Trainable params: 3,032,706\n",
      "Non-trainable params: 0\n",
      "_________________________________________________________________\n"
     ]
    }
   ],
   "source": [
    "conv_model = conv_nn()\n",
    "\n",
    "conv_model.summary()"
   ]
  },
  {
   "cell_type": "code",
   "execution_count": 98,
   "metadata": {},
   "outputs": [
    {
     "name": "stdout",
     "output_type": "stream",
     "text": [
      "Epoch 1/10\n",
      "576/576 [==============================] - 27s 46ms/step - loss: 2.1323 - accuracy: 0.2484 - val_loss: 1.8351 - val_accuracy: 0.3498\n",
      "Epoch 2/10\n",
      "576/576 [==============================] - 27s 46ms/step - loss: 1.6640 - accuracy: 0.4122 - val_loss: 1.7702 - val_accuracy: 0.3875\n",
      "Epoch 3/10\n",
      "576/576 [==============================] - 27s 46ms/step - loss: 1.4095 - accuracy: 0.5181 - val_loss: 1.6999 - val_accuracy: 0.4403\n",
      "Epoch 4/10\n",
      "576/576 [==============================] - 29s 51ms/step - loss: 1.0579 - accuracy: 0.6688 - val_loss: 1.7408 - val_accuracy: 0.5072\n",
      "Epoch 5/10\n",
      "576/576 [==============================] - 30s 51ms/step - loss: 0.7746 - accuracy: 0.7593 - val_loss: 1.7772 - val_accuracy: 0.5189\n",
      "Epoch 6/10\n",
      "576/576 [==============================] - 29s 50ms/step - loss: 0.5847 - accuracy: 0.8065 - val_loss: 1.8111 - val_accuracy: 0.5241\n"
     ]
    }
   ],
   "source": [
    "callback = EarlyStopping(monitor='val_loss', patience=3, restore_best_weights=True)\n",
    "\n",
    "fit = conv_model.fit(X_train1, y_train1, epochs=10, validation_split=0.2, callbacks=[callback])"
   ]
  },
  {
   "cell_type": "code",
   "execution_count": 99,
   "metadata": {},
   "outputs": [
    {
     "name": "stdout",
     "output_type": "stream",
     "text": [
      "0.6924279263633206\n"
     ]
    },
    {
     "data": {
      "image/png": "[encoded data removed]",
      "text/plain": [
       "<Figure size 432x288 with 1 Axes>"
      ]
     },
     "metadata": {
      "needs_background": "light"
     },
     "output_type": "display_data"
    }
   ],
   "source": [
    "y_pred1 = np.argmax(conv_model.predict(X_test1), axis=1)\n",
    "\n",
    "conf = confusion_matrix(y_test1, y_pred1)\n",
    "\n",
    "plt.imshow(conf)\n",
    "\n",
    "print(confusion_matrix_scorer(conv_model, X_test1, y_test1))"
   ]
  },
  {
   "cell_type": "markdown",
   "metadata": {},
   "source": [
    "## Grid search with no stop words"
   ]
  },
  {
   "cell_type": "code",
   "execution_count": 100,
   "metadata": {},
   "outputs": [
    {
     "name": "stdout",
     "output_type": "stream",
     "text": [
      "Epoch 1/10\n",
      "324/324 [==============================] - 7s 21ms/step - loss: 2.3117 - accuracy: 0.1933 - val_loss: 2.0989 - val_accuracy: 0.3012\n",
      "Epoch 2/10\n",
      "324/324 [==============================] - 7s 22ms/step - loss: 1.9610 - accuracy: 0.3369 - val_loss: 2.0004 - val_accuracy: 0.3273\n",
      "Epoch 3/10\n",
      "324/324 [==============================] - 7s 21ms/step - loss: 1.6317 - accuracy: 0.4417 - val_loss: 2.0398 - val_accuracy: 0.3490\n",
      "Epoch 4/10\n",
      "324/324 [==============================] - 8s 25ms/step - loss: 1.3650 - accuracy: 0.5514 - val_loss: 2.1194 - val_accuracy: 0.3594\n",
      "Epoch 5/10\n",
      "324/324 [==============================] - 9s 27ms/step - loss: 1.1443 - accuracy: 0.5987 - val_loss: 2.2213 - val_accuracy: 0.3316\n",
      "Epoch 1/10\n",
      "324/324 [==============================] - 10s 28ms/step - loss: 2.2279 - accuracy: 0.2145 - val_loss: 1.9831 - val_accuracy: 0.3073\n",
      "Epoch 2/10\n",
      "324/324 [==============================] - 9s 27ms/step - loss: 1.8008 - accuracy: 0.3792 - val_loss: 1.8771 - val_accuracy: 0.3359\n",
      "Epoch 3/10\n",
      "324/324 [==============================] - 9s 26ms/step - loss: 1.5138 - accuracy: 0.4901 - val_loss: 1.8840 - val_accuracy: 0.3620\n",
      "Epoch 4/10\n",
      "324/324 [==============================] - 9s 27ms/step - loss: 1.1742 - accuracy: 0.6092 - val_loss: 2.0419 - val_accuracy: 0.3785\n",
      "Epoch 5/10\n",
      "324/324 [==============================] - 9s 27ms/step - loss: 0.9143 - accuracy: 0.6892 - val_loss: 2.4223 - val_accuracy: 0.3950\n",
      "Epoch 1/10\n",
      "324/324 [==============================] - 9s 25ms/step - loss: 2.2471 - accuracy: 0.1906 - val_loss: 2.0781 - val_accuracy: 0.2352\n",
      "Epoch 2/10\n",
      "324/324 [==============================] - 8s 24ms/step - loss: 1.9626 - accuracy: 0.2678 - val_loss: 2.0023 - val_accuracy: 0.2535\n",
      "Epoch 3/10\n",
      "324/324 [==============================] - 8s 25ms/step - loss: 1.8128 - accuracy: 0.3096 - val_loss: 2.0046 - val_accuracy: 0.2708\n",
      "Epoch 4/10\n",
      "324/324 [==============================] - 8s 24ms/step - loss: 1.6544 - accuracy: 0.3960 - val_loss: 2.1113 - val_accuracy: 0.3082\n",
      "Epoch 5/10\n",
      "324/324 [==============================] - 8s 24ms/step - loss: 1.3886 - accuracy: 0.5158 - val_loss: 2.1647 - val_accuracy: 0.3385\n",
      "Epoch 1/10\n",
      "324/324 [==============================] - 9s 26ms/step - loss: 2.2554 - accuracy: 0.2038 - val_loss: 2.0158 - val_accuracy: 0.3082\n",
      "Epoch 2/10\n",
      "324/324 [==============================] - 8s 25ms/step - loss: 1.8331 - accuracy: 0.3726 - val_loss: 1.9026 - val_accuracy: 0.3464\n",
      "Epoch 3/10\n",
      "324/324 [==============================] - 8s 24ms/step - loss: 1.5524 - accuracy: 0.4638 - val_loss: 1.9043 - val_accuracy: 0.3620\n",
      "Epoch 4/10\n",
      "324/324 [==============================] - 7s 23ms/step - loss: 1.2124 - accuracy: 0.5844 - val_loss: 1.9572 - val_accuracy: 0.3663\n",
      "Epoch 5/10\n",
      "324/324 [==============================] - 7s 23ms/step - loss: 0.9244 - accuracy: 0.6836 - val_loss: 2.1158 - val_accuracy: 0.3750\n",
      "Epoch 1/10\n",
      "324/324 [==============================] - 10s 29ms/step - loss: 2.1927 - accuracy: 0.2268 - val_loss: 1.8738 - val_accuracy: 0.3108\n",
      "Epoch 2/10\n",
      "324/324 [==============================] - 9s 27ms/step - loss: 1.7194 - accuracy: 0.3653 - val_loss: 1.7661 - val_accuracy: 0.3707\n",
      "Epoch 3/10\n",
      "324/324 [==============================] - 8s 25ms/step - loss: 1.3827 - accuracy: 0.5169 - val_loss: 1.7302 - val_accuracy: 0.4028\n",
      "Epoch 4/10\n",
      "324/324 [==============================] - 8s 25ms/step - loss: 0.9966 - accuracy: 0.6835 - val_loss: 1.9134 - val_accuracy: 0.4106\n",
      "Epoch 5/10\n",
      "324/324 [==============================] - 8s 26ms/step - loss: 0.6744 - accuracy: 0.7984 - val_loss: 2.1747 - val_accuracy: 0.4444\n",
      "Epoch 6/10\n",
      "324/324 [==============================] - 9s 27ms/step - loss: 0.4690 - accuracy: 0.8479 - val_loss: 2.2574 - val_accuracy: 0.4392\n",
      "Epoch 1/10\n",
      "324/324 [==============================] - 9s 26ms/step - loss: 2.3659 - accuracy: 0.1477 - val_loss: 2.2878 - val_accuracy: 0.2387\n",
      "Epoch 2/10\n",
      "324/324 [==============================] - 9s 26ms/step - loss: 2.1497 - accuracy: 0.2905 - val_loss: 2.0620 - val_accuracy: 0.3012\n",
      "Epoch 3/10\n",
      "324/324 [==============================] - 8s 26ms/step - loss: 1.6439 - accuracy: 0.4733 - val_loss: 1.9405 - val_accuracy: 0.3628\n",
      "Epoch 4/10\n",
      "324/324 [==============================] - 8s 26ms/step - loss: 1.1493 - accuracy: 0.6319 - val_loss: 2.0685 - val_accuracy: 0.3602\n",
      "Epoch 5/10\n",
      "324/324 [==============================] - 8s 26ms/step - loss: 0.9538 - accuracy: 0.6844 - val_loss: 2.3461 - val_accuracy: 0.3689\n",
      "Epoch 6/10\n",
      "324/324 [==============================] - 8s 26ms/step - loss: 0.8063 - accuracy: 0.7098 - val_loss: 2.4420 - val_accuracy: 0.3663\n",
      "Epoch 1/10\n",
      "324/324 [==============================] - 8s 24ms/step - loss: 2.2047 - accuracy: 0.2192 - val_loss: 1.8867 - val_accuracy: 0.3299\n",
      "Epoch 2/10\n",
      "324/324 [==============================] - 8s 24ms/step - loss: 1.7901 - accuracy: 0.3482 - val_loss: 1.7830 - val_accuracy: 0.3429\n",
      "Epoch 3/10\n",
      "324/324 [==============================] - 8s 24ms/step - loss: 1.5581 - accuracy: 0.4409 - val_loss: 1.7524 - val_accuracy: 0.3845\n",
      "Epoch 4/10\n",
      "324/324 [==============================] - 8s 23ms/step - loss: 1.2988 - accuracy: 0.5581 - val_loss: 1.8464 - val_accuracy: 0.4115\n",
      "Epoch 5/10\n",
      "324/324 [==============================] - 7s 23ms/step - loss: 1.0449 - accuracy: 0.6651 - val_loss: 2.0175 - val_accuracy: 0.4323\n",
      "Epoch 6/10\n",
      "324/324 [==============================] - 7s 23ms/step - loss: 0.8205 - accuracy: 0.7431 - val_loss: 2.2574 - val_accuracy: 0.4288\n",
      "Epoch 1/10\n",
      "324/324 [==============================] - 8s 23ms/step - loss: 2.2445 - accuracy: 0.1952 - val_loss: 2.0193 - val_accuracy: 0.2951\n",
      "Epoch 2/10\n",
      "324/324 [==============================] - 8s 23ms/step - loss: 1.8743 - accuracy: 0.3510 - val_loss: 1.9074 - val_accuracy: 0.3394\n",
      "Epoch 3/10\n",
      "324/324 [==============================] - 8s 24ms/step - loss: 1.6507 - accuracy: 0.4150 - val_loss: 1.9071 - val_accuracy: 0.3377\n",
      "Epoch 4/10\n",
      "324/324 [==============================] - 7s 23ms/step - loss: 1.3888 - accuracy: 0.5176 - val_loss: 1.9912 - val_accuracy: 0.3602\n",
      "Epoch 5/10\n",
      "324/324 [==============================] - 7s 23ms/step - loss: 1.1702 - accuracy: 0.6126 - val_loss: 2.0810 - val_accuracy: 0.3637\n",
      "Epoch 6/10\n",
      "324/324 [==============================] - 7s 23ms/step - loss: 0.9284 - accuracy: 0.6946 - val_loss: 2.3214 - val_accuracy: 0.3767\n",
      "Epoch 1/10\n",
      "324/324 [==============================] - 8s 23ms/step - loss: 2.3061 - accuracy: 0.2112 - val_loss: 2.1240 - val_accuracy: 0.3151\n",
      "Epoch 2/10\n",
      "324/324 [==============================] - 7s 23ms/step - loss: 1.9638 - accuracy: 0.3473 - val_loss: 1.8510 - val_accuracy: 0.3681\n",
      "Epoch 3/10\n",
      "324/324 [==============================] - 7s 23ms/step - loss: 1.5549 - accuracy: 0.4585 - val_loss: 1.8634 - val_accuracy: 0.3750\n",
      "Epoch 4/10\n",
      "324/324 [==============================] - 7s 23ms/step - loss: 1.2386 - accuracy: 0.5774 - val_loss: 2.0005 - val_accuracy: 0.3750\n",
      "Epoch 5/10\n",
      "324/324 [==============================] - 7s 23ms/step - loss: 1.0055 - accuracy: 0.6570 - val_loss: 2.1519 - val_accuracy: 0.3793\n",
      "Epoch 1/10\n",
      "324/324 [==============================] - 8s 23ms/step - loss: 2.2885 - accuracy: 0.2058 - val_loss: 2.1643 - val_accuracy: 0.2691\n",
      "Epoch 2/10\n",
      "324/324 [==============================] - 7s 23ms/step - loss: 1.9820 - accuracy: 0.3484 - val_loss: 2.0400 - val_accuracy: 0.3342\n",
      "Epoch 3/10\n",
      "324/324 [==============================] - 7s 23ms/step - loss: 1.6317 - accuracy: 0.4689 - val_loss: 2.1261 - val_accuracy: 0.3177\n",
      "Epoch 4/10\n",
      "324/324 [==============================] - 7s 23ms/step - loss: 1.3146 - accuracy: 0.5514 - val_loss: 2.3109 - val_accuracy: 0.3238\n",
      "Epoch 5/10\n",
      "324/324 [==============================] - 7s 23ms/step - loss: 1.0819 - accuracy: 0.5944 - val_loss: 2.3844 - val_accuracy: 0.3264\n",
      "Epoch 1/10\n",
      "324/324 [==============================] - 8s 23ms/step - loss: 2.3099 - accuracy: 0.1789 - val_loss: 2.2175 - val_accuracy: 0.2057\n",
      "Epoch 2/10\n",
      "324/324 [==============================] - 7s 22ms/step - loss: 2.0463 - accuracy: 0.3082 - val_loss: 1.9769 - val_accuracy: 0.3611\n",
      "Epoch 3/10\n",
      "324/324 [==============================] - 7s 22ms/step - loss: 1.6418 - accuracy: 0.4717 - val_loss: 1.9611 - val_accuracy: 0.3559\n",
      "Epoch 4/10\n",
      "324/324 [==============================] - 7s 22ms/step - loss: 1.3478 - accuracy: 0.5623 - val_loss: 2.0434 - val_accuracy: 0.3429\n",
      "Epoch 5/10\n",
      "324/324 [==============================] - 7s 22ms/step - loss: 1.1462 - accuracy: 0.5880 - val_loss: 2.1218 - val_accuracy: 0.3533\n",
      "Epoch 6/10\n",
      "324/324 [==============================] - 7s 22ms/step - loss: 1.0163 - accuracy: 0.6111 - val_loss: 2.0890 - val_accuracy: 0.3420\n",
      "Epoch 1/10\n",
      "324/324 [==============================] - 8s 22ms/step - loss: 2.2411 - accuracy: 0.2148 - val_loss: 1.9828 - val_accuracy: 0.3064\n",
      "Epoch 2/10\n",
      "324/324 [==============================] - 7s 22ms/step - loss: 1.8024 - accuracy: 0.3643 - val_loss: 1.8420 - val_accuracy: 0.3498\n",
      "Epoch 3/10\n",
      "324/324 [==============================] - 7s 22ms/step - loss: 1.5005 - accuracy: 0.4761 - val_loss: 1.8966 - val_accuracy: 0.3819\n",
      "Epoch 4/10\n",
      "324/324 [==============================] - 7s 22ms/step - loss: 1.1916 - accuracy: 0.6094 - val_loss: 1.9592 - val_accuracy: 0.4036\n",
      "Epoch 5/10\n",
      "324/324 [==============================] - 7s 22ms/step - loss: 0.9131 - accuracy: 0.7246 - val_loss: 2.1025 - val_accuracy: 0.3958\n",
      "Epoch 1/10\n",
      "324/324 [==============================] - 9s 27ms/step - loss: 2.2967 - accuracy: 0.2054 - val_loss: 2.0603 - val_accuracy: 0.3394\n",
      "Epoch 2/10\n",
      "324/324 [==============================] - 9s 27ms/step - loss: 1.9523 - accuracy: 0.3671 - val_loss: 1.9987 - val_accuracy: 0.3498\n",
      "Epoch 3/10\n",
      "324/324 [==============================] - 9s 27ms/step - loss: 1.6993 - accuracy: 0.4395 - val_loss: 2.0694 - val_accuracy: 0.3576\n",
      "Epoch 4/10\n",
      "324/324 [==============================] - 9s 27ms/step - loss: 1.4241 - accuracy: 0.5012 - val_loss: 1.9821 - val_accuracy: 0.3880\n",
      "Epoch 5/10\n",
      "324/324 [==============================] - 9s 27ms/step - loss: 1.2385 - accuracy: 0.5555 - val_loss: 2.0110 - val_accuracy: 0.3524\n",
      "Epoch 6/10\n",
      "324/324 [==============================] - 9s 27ms/step - loss: 1.0749 - accuracy: 0.6031 - val_loss: 2.0615 - val_accuracy: 0.3681\n",
      "Epoch 7/10\n",
      "324/324 [==============================] - 9s 27ms/step - loss: 0.9883 - accuracy: 0.6195 - val_loss: 2.1843 - val_accuracy: 0.3698\n",
      "Epoch 1/10\n",
      "324/324 [==============================] - 10s 27ms/step - loss: 2.2866 - accuracy: 0.1783 - val_loss: 2.1123 - val_accuracy: 0.2786\n",
      "Epoch 2/10\n",
      "324/324 [==============================] - 9s 27ms/step - loss: 1.8869 - accuracy: 0.3512 - val_loss: 1.9000 - val_accuracy: 0.3568\n",
      "Epoch 3/10\n",
      "324/324 [==============================] - 9s 27ms/step - loss: 1.5336 - accuracy: 0.4809 - val_loss: 1.9899 - val_accuracy: 0.3585\n",
      "Epoch 4/10\n",
      "324/324 [==============================] - 9s 27ms/step - loss: 1.2410 - accuracy: 0.5980 - val_loss: 2.0591 - val_accuracy: 0.3733\n",
      "Epoch 5/10\n",
      "324/324 [==============================] - 9s 27ms/step - loss: 1.0027 - accuracy: 0.6848 - val_loss: 2.2840 - val_accuracy: 0.3776\n",
      "Epoch 1/10\n",
      "324/324 [==============================] - 8s 25ms/step - loss: 2.2496 - accuracy: 0.2069 - val_loss: 2.0190 - val_accuracy: 0.3021\n",
      "Epoch 2/10\n",
      "324/324 [==============================] - 8s 24ms/step - loss: 1.8969 - accuracy: 0.3417 - val_loss: 1.8678 - val_accuracy: 0.3464\n",
      "Epoch 3/10\n",
      "324/324 [==============================] - 8s 24ms/step - loss: 1.4998 - accuracy: 0.4685 - val_loss: 1.7658 - val_accuracy: 0.3785\n",
      "Epoch 4/10\n",
      "324/324 [==============================] - 8s 24ms/step - loss: 1.1976 - accuracy: 0.5950 - val_loss: 1.8630 - val_accuracy: 0.4010\n",
      "Epoch 5/10\n",
      "324/324 [==============================] - 8s 24ms/step - loss: 0.9358 - accuracy: 0.6950 - val_loss: 2.0711 - val_accuracy: 0.4219\n",
      "Epoch 6/10\n",
      "324/324 [==============================] - 8s 24ms/step - loss: 0.6690 - accuracy: 0.7979 - val_loss: 2.2306 - val_accuracy: 0.4549\n",
      "Epoch 1/10\n",
      "324/324 [==============================] - 8s 25ms/step - loss: 2.2483 - accuracy: 0.1923 - val_loss: 2.0897 - val_accuracy: 0.2865\n",
      "Epoch 2/10\n",
      "324/324 [==============================] - 8s 24ms/step - loss: 1.9745 - accuracy: 0.3168 - val_loss: 1.9833 - val_accuracy: 0.3255\n",
      "Epoch 3/10\n",
      "324/324 [==============================] - 8s 24ms/step - loss: 1.7327 - accuracy: 0.3981 - val_loss: 1.9736 - val_accuracy: 0.3368\n",
      "Epoch 4/10\n",
      "324/324 [==============================] - 8s 24ms/step - loss: 1.5148 - accuracy: 0.4715 - val_loss: 2.0121 - val_accuracy: 0.3342\n",
      "Epoch 5/10\n",
      "324/324 [==============================] - 8s 24ms/step - loss: 1.3461 - accuracy: 0.5334 - val_loss: 2.1928 - val_accuracy: 0.3299\n",
      "Epoch 6/10\n",
      "324/324 [==============================] - 8s 25ms/step - loss: 1.1970 - accuracy: 0.5674 - val_loss: 2.2759 - val_accuracy: 0.3351\n",
      "Epoch 1/10\n",
      "648/648 [==============================] - 15s 23ms/step - loss: 2.2888 - accuracy: 0.1962 - val_loss: 2.1144 - val_accuracy: 0.3178\n",
      "Epoch 2/10\n",
      "648/648 [==============================] - 15s 23ms/step - loss: 1.9769 - accuracy: 0.3583 - val_loss: 1.9533 - val_accuracy: 0.3621\n",
      "Epoch 3/10\n",
      "648/648 [==============================] - 15s 23ms/step - loss: 1.7375 - accuracy: 0.4130 - val_loss: 1.8876 - val_accuracy: 0.3561\n",
      "Epoch 4/10\n",
      "648/648 [==============================] - 15s 23ms/step - loss: 1.5415 - accuracy: 0.4284 - val_loss: 1.8707 - val_accuracy: 0.3582\n",
      "Epoch 5/10\n",
      "648/648 [==============================] - 15s 23ms/step - loss: 1.4368 - accuracy: 0.4356 - val_loss: 1.9279 - val_accuracy: 0.3517\n",
      "Epoch 6/10\n",
      "648/648 [==============================] - 15s 23ms/step - loss: 1.4125 - accuracy: 0.4314 - val_loss: 1.9409 - val_accuracy: 0.3482\n",
      "Epoch 7/10\n",
      "648/648 [==============================] - 15s 23ms/step - loss: 1.3995 - accuracy: 0.4355 - val_loss: 2.0224 - val_accuracy: 0.3565\n"
     ]
    }
   ],
   "source": [
    "conv_model1 = KerasClassifier(conv_nn)\n",
    "\n",
    "params_grid = {'num_filters':[50, 100], 'kernel_size':[2, 4], 'num_neurons':[(100, 50), (40, 20)], 'vector_dim':[64]}\n",
    "scoring = {'accuracy': make_scorer(accuracy_score), 'conf': confusion_matrix_scorer}\n",
    "\n",
    "conv_grid1 = GridSearchCV(conv_model1, params_grid, cv=2, scoring=scoring, refit='conf')\n",
    "\n",
    "callback = EarlyStopping(monitor='val_loss', patience=3, restore_best_weights=True)\n",
    "\n",
    "conv_grid_result1 = conv_grid1.fit(X_train1, y_train1, epochs=10, verbose=1, validation_split=0.1, callbacks=[callback])"
   ]
  },
  {
   "cell_type": "code",
   "execution_count": 101,
   "metadata": {},
   "outputs": [
    {
     "data": {
      "text/plain": [
       "array([0.55814155, 0.57577073, 0.63239253, 0.63638732, 0.60503691,\n",
       "       0.61884498, 0.58458532, 0.61906209])"
      ]
     },
     "execution_count": 101,
     "metadata": {},
     "output_type": "execute_result"
    }
   ],
   "source": [
    "conv_grid_result1.cv_results_['mean_test_conf']"
   ]
  },
  {
   "cell_type": "code",
   "execution_count": 102,
   "metadata": {},
   "outputs": [
    {
     "data": {
      "text/plain": [
       "{'kernel_size': 2,\n",
       " 'num_filters': 100,\n",
       " 'num_neurons': (40, 20),\n",
       " 'vector_dim': 64}"
      ]
     },
     "execution_count": 102,
     "metadata": {},
     "output_type": "execute_result"
    }
   ],
   "source": [
    "conv_grid_result1.best_params_"
   ]
  },
  {
   "cell_type": "code",
   "execution_count": 113,
   "metadata": {},
   "outputs": [
    {
     "name": "stdout",
     "output_type": "stream",
     "text": [
      "0.5149357415769364\n"
     ]
    },
    {
     "data": {
      "image/png": "[encoded data removed]",
      "text/plain": [
       "<Figure size 432x288 with 1 Axes>"
      ]
     },
     "metadata": {
      "needs_background": "light"
     },
     "output_type": "display_data"
    }
   ],
   "source": [
    "best_conv_model1 = conv_grid_result1.best_estimator_\n",
    "\n",
    "y_pred1 = best_conv_model1.predict(X_test1)\n",
    "\n",
    "conf = confusion_matrix(y_test1, y_pred1)\n",
    "\n",
    "plt.imshow(conf)\n",
    "\n",
    "print(confusion_matrix_scorer(best_conv_model1, X_test1, y_test1))"
   ]
  },
  {
   "cell_type": "code",
   "execution_count": null,
   "metadata": {},
   "outputs": [],
   "source": []
  }
 ],
 "metadata": {
  "kernelspec": {
   "display_name": "Python 3",
   "language": "python",
   "name": "python3"
  },
  "language_info": {
   "codemirror_mode": {
    "name": "ipython",
    "version": 3
   },
   "file_extension": ".py",
   "mimetype": "text/x-python",
   "name": "python",
   "nbconvert_exporter": "python",
   "pygments_lexer": "ipython3",
   "version": "3.8.5"
  }
 },
 "nbformat": 4,
 "nbformat_minor": 4
}
